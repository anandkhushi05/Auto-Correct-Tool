{
  "cells": [
    {
      "cell_type": "code",
      "execution_count": 3,
      "metadata": {
        "colab": {
          "base_uri": "https://localhost:8080/"
        },
        "id": "F90vTTyJFIlV",
        "outputId": "c180fda8-5307-4fee-c18b-b15133a4f48b"
      },
      "outputs": [
        {
          "output_type": "stream",
          "name": "stdout",
          "text": [
            "Requirement already satisfied: nltk in /usr/local/lib/python3.10/dist-packages (3.8.1)\n",
            "Requirement already satisfied: click in /usr/local/lib/python3.10/dist-packages (from nltk) (8.1.6)\n",
            "Requirement already satisfied: joblib in /usr/local/lib/python3.10/dist-packages (from nltk) (1.3.2)\n",
            "Requirement already satisfied: regex>=2021.8.3 in /usr/local/lib/python3.10/dist-packages (from nltk) (2023.6.3)\n",
            "Requirement already satisfied: tqdm in /usr/local/lib/python3.10/dist-packages (from nltk) (4.66.0)\n"
          ]
        }
      ],
      "source": [
        "pip install nltk"
      ]
    },
    {
      "cell_type": "code",
      "execution_count": 4,
      "metadata": {
        "colab": {
          "base_uri": "https://localhost:8080/"
        },
        "id": "aiqShFlnFMIF",
        "outputId": "a3570bfa-34e7-4f00-d98f-4cfb47b1df77"
      },
      "outputs": [
        {
          "output_type": "stream",
          "name": "stderr",
          "text": [
            "[nltk_data] Downloading package words to /root/nltk_data...\n",
            "[nltk_data]   Package words is already up-to-date!\n"
          ]
        },
        {
          "name": "stdout",
          "output_type": "stream",
          "text": [
            "Enter a word: heello\n",
            "Corrected word: hello\n",
            "Enter a word: banaana\n",
            "Corrected word: banana\n",
            "Enter a word: exit\n"
          ]
        }
      ],
      "source": [
        "import nltk\n",
        "from nltk.corpus import words\n",
        "from nltk.metrics.distance import edit_distance\n",
        "\n",
        "nltk.download('words')\n",
        "\n",
        "class AutoCorrectTool:\n",
        "    def __init__(self):\n",
        "        self.word_list = set(words.words())\n",
        "\n",
        "    def get_nearest_word(self, input_word):\n",
        "        input_word = input_word.lower()\n",
        "        if input_word in self.word_list:\n",
        "            return input_word  # The word is already correct\n",
        "\n",
        "        min_distance = float('inf')\n",
        "        nearest_word = None\n",
        "\n",
        "        for word in self.word_list:\n",
        "            distance = edit_distance(input_word, word)\n",
        "            if distance < min_distance:\n",
        "                min_distance = distance\n",
        "                nearest_word = word\n",
        "\n",
        "        return nearest_word\n",
        "\n",
        "if __name__ == \"__main__\":\n",
        "    auto_corrector = AutoCorrectTool()\n",
        "\n",
        "    while True:\n",
        "        user_input = input(\"Enter a word: \")\n",
        "\n",
        "        if user_input == \"exit\":\n",
        "            break\n",
        "\n",
        "        corrected_word = auto_corrector.get_nearest_word(user_input)\n",
        "\n",
        "        print(\"Corrected word:\", corrected_word)\n"
      ]
    },
    {
      "cell_type": "code",
      "execution_count": null,
      "metadata": {
        "id": "frv_k3igFVzT"
      },
      "outputs": [],
      "source": []
    }
  ],
  "metadata": {
    "colab": {
      "provenance": []
    },
    "kernelspec": {
      "display_name": "Python 3",
      "name": "python3"
    },
    "language_info": {
      "name": "python"
    }
  },
  "nbformat": 4,
  "nbformat_minor": 0
}